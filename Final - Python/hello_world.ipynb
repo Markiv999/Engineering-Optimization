{
 "cells": [
  {
   "cell_type": "code",
   "execution_count": 5,
   "metadata": {},
   "outputs": [
    {
     "name": "stdout",
     "output_type": "stream",
     "text": [
      "Numpy v1.22.3\n",
      "Scipy v1.10.1\n",
      "Sympy v1.7.3\n",
      "Matplotlib v3.5.1\n"
     ]
    }
   ],
   "source": [
    "import numpy\n",
    "import scipy\n",
    "import sympy\n",
    "import matplotlib\n",
    "\n",
    "print(f'Numpy v{numpy.__version__}')\n",
    "print(f'Scipy v{sympy.__version__}')\n",
    "print(f'Sympy v{scipy.__version__}')\n",
    "print(f'Matplotlib v{matplotlib.__version__}')"
   ]
  },
  {
   "cell_type": "code",
   "execution_count": 6,
   "metadata": {},
   "outputs": [
    {
     "name": "stdout",
     "output_type": "stream",
     "text": [
      "Hello world!\n"
     ]
    }
   ],
   "source": [
    "print('Hello world!')"
   ]
  }
 ],
 "metadata": {
  "kernelspec": {
   "display_name": "Python 3.9.12 ('engineering_optimization')",
   "language": "python",
   "name": "python3"
  },
  "language_info": {
   "codemirror_mode": {
    "name": "ipython",
    "version": 3
   },
   "file_extension": ".py",
   "mimetype": "text/x-python",
   "name": "python",
   "nbconvert_exporter": "python",
   "pygments_lexer": "ipython3",
   "version": "3.9.12"
  },
  "orig_nbformat": 4,
  "vscode": {
   "interpreter": {
    "hash": "a2f828b6b8c3a80642846a1683196e611a19f96e87bf6e9047e3ef43d9a50772"
   }
  }
 },
 "nbformat": 4,
 "nbformat_minor": 2
}
